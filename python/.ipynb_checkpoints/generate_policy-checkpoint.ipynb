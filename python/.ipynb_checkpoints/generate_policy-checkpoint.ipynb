{
 "cells": [
  {
   "cell_type": "markdown",
   "metadata": {},
   "source": [
    "# 从pi计算读取策略"
   ]
  },
  {
   "cell_type": "code",
   "execution_count": 2,
   "metadata": {},
   "outputs": [],
   "source": [
    "import pandas as pd\n",
    "import numpy as np"
   ]
  },
  {
   "cell_type": "code",
   "execution_count": 8,
   "metadata": {},
   "outputs": [
    {
     "data": {
      "text/html": [
       "<div>\n",
       "<style scoped>\n",
       "    .dataframe tbody tr th:only-of-type {\n",
       "        vertical-align: middle;\n",
       "    }\n",
       "\n",
       "    .dataframe tbody tr th {\n",
       "        vertical-align: top;\n",
       "    }\n",
       "\n",
       "    .dataframe thead th {\n",
       "        text-align: right;\n",
       "    }\n",
       "</style>\n",
       "<table border=\"1\" class=\"dataframe\">\n",
       "  <thead>\n",
       "    <tr style=\"text-align: right;\">\n",
       "      <th></th>\n",
       "      <th>0</th>\n",
       "      <th>1</th>\n",
       "      <th>2</th>\n",
       "      <th>3</th>\n",
       "      <th>4</th>\n",
       "      <th>5</th>\n",
       "      <th>6</th>\n",
       "      <th>7</th>\n",
       "    </tr>\n",
       "  </thead>\n",
       "  <tbody>\n",
       "    <tr>\n",
       "      <th>0</th>\n",
       "      <td>0.9951</td>\n",
       "      <td>0.5620</td>\n",
       "      <td>0.9953</td>\n",
       "      <td>0.1232</td>\n",
       "      <td>0.0000</td>\n",
       "      <td>0.2120</td>\n",
       "      <td>0.0632</td>\n",
       "      <td>0.0492</td>\n",
       "    </tr>\n",
       "    <tr>\n",
       "      <th>1</th>\n",
       "      <td>0.9924</td>\n",
       "      <td>0.8618</td>\n",
       "      <td>0.9929</td>\n",
       "      <td>0.3710</td>\n",
       "      <td>0.2905</td>\n",
       "      <td>0.1357</td>\n",
       "      <td>0.1911</td>\n",
       "      <td>0.1645</td>\n",
       "    </tr>\n",
       "    <tr>\n",
       "      <th>2</th>\n",
       "      <td>0.9962</td>\n",
       "      <td>0.9109</td>\n",
       "      <td>0.9963</td>\n",
       "      <td>0.0292</td>\n",
       "      <td>0.0000</td>\n",
       "      <td>0.0248</td>\n",
       "      <td>0.0222</td>\n",
       "      <td>0.0202</td>\n",
       "    </tr>\n",
       "    <tr>\n",
       "      <th>3</th>\n",
       "      <td>0.0000</td>\n",
       "      <td>0.0000</td>\n",
       "      <td>0.0000</td>\n",
       "      <td>0.2188</td>\n",
       "      <td>0.0155</td>\n",
       "      <td>0.6707</td>\n",
       "      <td>0.0562</td>\n",
       "      <td>0.0388</td>\n",
       "    </tr>\n",
       "    <tr>\n",
       "      <th>4</th>\n",
       "      <td>0.0000</td>\n",
       "      <td>0.3254</td>\n",
       "      <td>0.0000</td>\n",
       "      <td>0.1297</td>\n",
       "      <td>0.9193</td>\n",
       "      <td>0.0716</td>\n",
       "      <td>0.2677</td>\n",
       "      <td>0.2862</td>\n",
       "    </tr>\n",
       "    <tr>\n",
       "      <th>5</th>\n",
       "      <td>0.9968</td>\n",
       "      <td>0.0000</td>\n",
       "      <td>0.9969</td>\n",
       "      <td>0.2911</td>\n",
       "      <td>0.0180</td>\n",
       "      <td>0.5947</td>\n",
       "      <td>0.0598</td>\n",
       "      <td>0.0427</td>\n",
       "    </tr>\n",
       "  </tbody>\n",
       "</table>\n",
       "</div>"
      ],
      "text/plain": [
       "        0       1       2       3       4       5       6       7\n",
       "0  0.9951  0.5620  0.9953  0.1232  0.0000  0.2120  0.0632  0.0492\n",
       "1  0.9924  0.8618  0.9929  0.3710  0.2905  0.1357  0.1911  0.1645\n",
       "2  0.9962  0.9109  0.9963  0.0292  0.0000  0.0248  0.0222  0.0202\n",
       "3  0.0000  0.0000  0.0000  0.2188  0.0155  0.6707  0.0562  0.0388\n",
       "4  0.0000  0.3254  0.0000  0.1297  0.9193  0.0716  0.2677  0.2862\n",
       "5  0.9968  0.0000  0.9969  0.2911  0.0180  0.5947  0.0598  0.0427"
      ]
     },
     "execution_count": 8,
     "metadata": {},
     "output_type": "execute_result"
    }
   ],
   "source": [
    "p = pd.read_csv('eclogs/p.txt',header = None, sep = '\\s+')\n",
    "# lmp = pd.read_csv('eclogs/lmp.txt',header = None, sep = '\\s+')\n",
    "p"
   ]
  },
  {
   "cell_type": "code",
   "execution_count": 9,
   "metadata": {},
   "outputs": [],
   "source": [
    "k = 4\n",
    "C = 8\n",
    "N = 8\n",
    "# p['cache'] = k - p.sum(axis = 1)\n",
    "# data = []\n",
    "# for i in range(len(lmp)):\n",
    "#     data.extend(lmp.values[i])\n",
    "def quick_sort(lists):\n",
    "    if not lists:\n",
    "        return []\n",
    "    assert isinstance(lists, list)\n",
    "    if len(lists) == 1:\n",
    "        return lists\n",
    "    pivot = lists.pop()\n",
    "    llist, rlist = [], []\n",
    "    for x in lists:\n",
    "        if x>pivot:\n",
    "            rlist.append(x)\n",
    "        else:\n",
    "            llist.append(x)\n",
    "    return quick_sort(llist) + [pivot] + quick_sort(rlist)\n",
    "\n",
    "def sort_topk(s, k):\n",
    "    # return sorted(s)[:k]\n",
    "    return quick_sort(s)[-k:]    \n",
    "\n",
    "# def determine_palcement():\n",
    "#     topk = sort_topk(data, C)\n",
    "#     kth = topk[0]\n",
    "#     for i in range(lmp.shape[1]):\n",
    "#         for j in range(lmp.shape[0]):\n",
    "#             if lmp[i][j] >= kth:\n",
    "# #                 p[i][j] = 0\n",
    "#                 continue\n",
    "# #     placement = (0.1 - p) < 0\n",
    "#     placement = (p > 0)\n",
    "#     print(p)\n",
    "#     return placement"
   ]
  },
  {
   "cell_type": "markdown",
   "metadata": {},
   "source": [
    "## 生成写入分布策略"
   ]
  },
  {
   "cell_type": "code",
   "execution_count": 10,
   "metadata": {},
   "outputs": [],
   "source": [
    "import math\n",
    "\n",
    "workersToWrite = list()\n",
    "# placement = determine_palcement()\n",
    "for index in p.index:\n",
    "#     vc = placement.loc[index].value_counts()\n",
    "#     new_row = [0] * int(N - sum(np.ceil(p.loc[index] - 0.01)))\n",
    "    new_row = [0] * int(N - sum(np.ceil(p.loc[index])))\n",
    "    \n",
    "    tmp = []\n",
    "    cnt0 = (p.loc[index] == 0).astype(int).sum()\n",
    "    kth = sort_topk(list(p.loc[index]), k - cnt0)[0]\n",
    "    for i in range(p.shape[1]):\n",
    "        if (p.loc[index][i] >= kth) & (p.loc[index][i] != 0):\n",
    "            tmp.append(i+1)\n",
    "    new_row.extend(tmp)\n",
    "    \n",
    "    tmp = []\n",
    "    for i in range(p.shape[1]):\n",
    "        if (p.loc[index][i] < kth) & (p.loc[index][i] != 0):\n",
    "            tmp.append(i+1)\n",
    "    new_row.extend(tmp)\n",
    "    workersToWrite.append(new_row)\n",
    "pd.DataFrame(workersToWrite).to_csv('eclogs/workersToWrite.txt', index=False, header=False, sep = ' ')"
   ]
  },
  {
   "cell_type": "code",
   "execution_count": 11,
   "metadata": {},
   "outputs": [
    {
     "data": {
      "text/html": [
       "<div>\n",
       "<style scoped>\n",
       "    .dataframe tbody tr th:only-of-type {\n",
       "        vertical-align: middle;\n",
       "    }\n",
       "\n",
       "    .dataframe tbody tr th {\n",
       "        vertical-align: top;\n",
       "    }\n",
       "\n",
       "    .dataframe thead th {\n",
       "        text-align: right;\n",
       "    }\n",
       "</style>\n",
       "<table border=\"1\" class=\"dataframe\">\n",
       "  <thead>\n",
       "    <tr style=\"text-align: right;\">\n",
       "      <th></th>\n",
       "      <th>0</th>\n",
       "      <th>1</th>\n",
       "      <th>2</th>\n",
       "      <th>3</th>\n",
       "      <th>4</th>\n",
       "      <th>5</th>\n",
       "      <th>6</th>\n",
       "      <th>7</th>\n",
       "    </tr>\n",
       "  </thead>\n",
       "  <tbody>\n",
       "    <tr>\n",
       "      <th>0</th>\n",
       "      <td>0</td>\n",
       "      <td>1</td>\n",
       "      <td>2</td>\n",
       "      <td>3</td>\n",
       "      <td>4</td>\n",
       "      <td>6</td>\n",
       "      <td>7</td>\n",
       "      <td>8</td>\n",
       "    </tr>\n",
       "    <tr>\n",
       "      <th>1</th>\n",
       "      <td>1</td>\n",
       "      <td>2</td>\n",
       "      <td>3</td>\n",
       "      <td>4</td>\n",
       "      <td>5</td>\n",
       "      <td>6</td>\n",
       "      <td>7</td>\n",
       "      <td>8</td>\n",
       "    </tr>\n",
       "    <tr>\n",
       "      <th>2</th>\n",
       "      <td>0</td>\n",
       "      <td>1</td>\n",
       "      <td>2</td>\n",
       "      <td>3</td>\n",
       "      <td>4</td>\n",
       "      <td>6</td>\n",
       "      <td>7</td>\n",
       "      <td>8</td>\n",
       "    </tr>\n",
       "    <tr>\n",
       "      <th>3</th>\n",
       "      <td>0</td>\n",
       "      <td>0</td>\n",
       "      <td>0</td>\n",
       "      <td>6</td>\n",
       "      <td>4</td>\n",
       "      <td>5</td>\n",
       "      <td>7</td>\n",
       "      <td>8</td>\n",
       "    </tr>\n",
       "    <tr>\n",
       "      <th>4</th>\n",
       "      <td>0</td>\n",
       "      <td>0</td>\n",
       "      <td>2</td>\n",
       "      <td>5</td>\n",
       "      <td>4</td>\n",
       "      <td>6</td>\n",
       "      <td>7</td>\n",
       "      <td>8</td>\n",
       "    </tr>\n",
       "    <tr>\n",
       "      <th>5</th>\n",
       "      <td>0</td>\n",
       "      <td>1</td>\n",
       "      <td>3</td>\n",
       "      <td>6</td>\n",
       "      <td>4</td>\n",
       "      <td>5</td>\n",
       "      <td>7</td>\n",
       "      <td>8</td>\n",
       "    </tr>\n",
       "  </tbody>\n",
       "</table>\n",
       "</div>"
      ],
      "text/plain": [
       "   0  1  2  3  4  5  6  7\n",
       "0  0  1  2  3  4  6  7  8\n",
       "1  1  2  3  4  5  6  7  8\n",
       "2  0  1  2  3  4  6  7  8\n",
       "3  0  0  0  6  4  5  7  8\n",
       "4  0  0  2  5  4  6  7  8\n",
       "5  0  1  3  6  4  5  7  8"
      ]
     },
     "execution_count": 11,
     "metadata": {},
     "output_type": "execute_result"
    }
   ],
   "source": [
    "workersToWrite = pd.read_csv('eclogs/workersToWrite.txt', header=None, sep = ' +', engine='python')\n",
    "# (workersToWrite == 0).sum(axis=1)\n",
    "workersToWrite"
   ]
  },
  {
   "cell_type": "markdown",
   "metadata": {},
   "source": [
    "## 生成读取策略"
   ]
  },
  {
   "cell_type": "code",
   "execution_count": 12,
   "metadata": {},
   "outputs": [],
   "source": [
    "circle_times = 60\n",
    "read_list = list()\n",
    "\n",
    "workersToWrite = workersToWrite.values.tolist()\n",
    "p = pd.read_csv('eclogs/p.txt',header = None, sep = '\\s+')\n",
    "\n",
    "while(len(read_list) < circle_times*len(p)):\n",
    "    rand = pd.DataFrame(np.random.rand(p.shape[0], p.shape[1]))\n",
    "    read_matrix = (rand - p) < 0\n",
    "    \n",
    "    for index in read_matrix.index:\n",
    "        new_row = []\n",
    "        while(len(new_row) != k):\n",
    "            rand = pd.DataFrame(np.random.rand(p.shape[0], p.shape[1]))\n",
    "            read_matrix = (rand - p) < 0\n",
    "            vc = read_matrix.loc[index].value_counts()\n",
    "#             new_row = list(np.arange(workersToWrite[index].count(0)))\n",
    "            new_row = [i for i,x in enumerate(workersToWrite[index]) if (x == 0)]\n",
    "            if(len(new_row) > k):\n",
    "                new_row = new_row[:k]\n",
    "                \n",
    "            tmp = []\n",
    "            for j in range(0, p.shape[1]):\n",
    "                if (read_matrix.loc[index][j] == True) and (j+1 in workersToWrite[index]):\n",
    "                    tmp.append(workersToWrite[index].index(j+1))\n",
    "            new_row.extend(tmp)\n",
    "#             print(new_row)\n",
    "        read_list.append(new_row)\n",
    "pd.DataFrame(read_list).to_csv('eclogs/blocksToRead.txt', index=False, header=False, sep = ' ')"
   ]
  },
  {
   "cell_type": "markdown",
   "metadata": {},
   "source": [
    "## 生成随机或循环策略的读取概率"
   ]
  },
  {
   "cell_type": "code",
   "execution_count": 55,
   "metadata": {},
   "outputs": [
    {
     "name": "stdout",
     "output_type": "stream",
     "text": [
      "0.5714 0.5714 0.5714 0.5714 0.5714 0.5714 0.0000 0.5714 \n",
      "0.6250 0.6250 0.6250 0.6250 0.6250 0.6250 0.6250 0.6250 \n",
      "0.6250 0.6250 0.6250 0.6250 0.6250 0.6250 0.6250 0.6250 \n",
      "0.0000 0.2500 0.2500 0.0000 0.2500 0.2500 0.0000 0.0000 \n",
      "0.5000 0.0000 0.5000 0.0000 0.5000 0.5000 0.5000 0.5000 \n",
      "0.5714 0.5714 0.5714 0.5714 0.0000 0.5714 0.5714 0.5714 \n"
     ]
    }
   ],
   "source": [
    "file_num = 6\n",
    "node_num = 8\n",
    "k = 5\n",
    "C = 8\n",
    "cache_loc = np.random.rand(file_num, node_num) > 0.7142857\n",
    "p_random = [[0]*node_num]*file_num\n",
    "while(np.sum(cache_loc) != C):\n",
    "    cache_loc = np.random.rand(file_num, node_num) > 0.7142857\n",
    "    cnt = np.sum(cache_loc, axis=1)\n",
    "    for i in range(len(cache_loc)):\n",
    "        p_random[i] = [(k - cnt[i])/(node_num - cnt[i])]*node_num\n",
    "        for j in range(len(cache_loc[i])):\n",
    "            if cache_loc[i, j] == True:\n",
    "                p_random[i][j] = 0\n",
    "for line in p_random:\n",
    "    for ele in line:\n",
    "        print('%.4f'%ele, end=' ')\n",
    "    print()"
   ]
  },
  {
   "cell_type": "code",
   "execution_count": 28,
   "metadata": {},
   "outputs": [
    {
     "data": {
      "text/plain": [
       "8"
      ]
     },
     "execution_count": 28,
     "metadata": {},
     "output_type": "execute_result"
    }
   ],
   "source": [
    "# cache_loc = np.random.rand(p.shape[0], p.shape[1]) > 0.7142857\n",
    "# np.sum(cache_loc, axis=1)\n",
    "# # p_random = [[0]*p.shape[1]]*p.shape[0]\n",
    "# # [(k - cnt)/(p.shape[1]-cnt)]\n",
    "len(p.loc[1])"
   ]
  },
  {
   "cell_type": "markdown",
   "metadata": {},
   "source": [
    "## 随机策略和sprout的写入策略"
   ]
  },
  {
   "cell_type": "code",
   "execution_count": 52,
   "metadata": {},
   "outputs": [
    {
     "name": "stdout",
     "output_type": "stream",
     "text": [
      "0 0 2 3 4 6 7 8 \n",
      "0 0 1 2 4 5 6 7 \n",
      "1 2 3 4 5 6 7 8 \n",
      "0 0 1 3 4 5 6 8 \n",
      "1 2 3 4 5 6 7 8 \n",
      "0 0 2 3 4 5 7 8 \n"
     ]
    }
   ],
   "source": [
    "import math\n",
    "\n",
    "p = pd.read_csv('eclogs/p.txt',header = None, sep = '\\s+')\n",
    "workersToWrite = list()\n",
    "# placement = determine_palcement()\n",
    "cnt = np.sum(p == 0, axis=1)\n",
    "for i in range(len(p)):\n",
    "\n",
    "    new_row = [0] * int(cnt[i])\n",
    "    \n",
    "    tmp = []\n",
    "\n",
    "    for j in range(len(p.loc[i])):\n",
    "        if (p.loc[i][j] != 0):\n",
    "            tmp.append(j+1)\n",
    "    new_row.extend(tmp)\n",
    "    \n",
    "    workersToWrite.append(new_row)\n",
    "    \n",
    "for line in workersToWrite:\n",
    "    for ele in line:\n",
    "        print(str(ele), end=' ')\n",
    "    print()\n",
    "# pd.DataFrame(workersToWrite).to_csv('eclogs/workersToWrite.txt', index=False, header=False, sep = ' ')"
   ]
  },
  {
   "cell_type": "markdown",
   "metadata": {},
   "source": [
    "## 循环策略的写入策略"
   ]
  },
  {
   "cell_type": "code",
   "execution_count": 56,
   "metadata": {},
   "outputs": [
    {
     "name": "stdout",
     "output_type": "stream",
     "text": [
      "1 2 3 4 5 6 0 8 \n",
      "1 2 3 4 5 6 7 8 \n",
      "1 2 3 4 5 6 7 8 \n",
      "0 2 3 0 5 6 0 0 \n",
      "1 0 3 0 5 6 7 8 \n",
      "1 2 3 4 0 6 7 8 \n"
     ]
    }
   ],
   "source": [
    "import math\n",
    "\n",
    "p = pd.read_csv('eclogs/p.txt',header = None, sep = '\\s+')\n",
    "workersToWrite = list()\n",
    "# placement = determine_palcement()\n",
    "cnt = np.sum(cache_loc, axis=1)\n",
    "for i in range(len(p)):\n",
    "\n",
    "    new_row = []\n",
    "\n",
    "    for j in range(len(p.loc[i])):\n",
    "        if (p.loc[i][j] == 0):\n",
    "            new_row.append(0)\n",
    "        else:\n",
    "            new_row.append(j+1)\n",
    "    workersToWrite.append(new_row)\n",
    "    \n",
    "for line in workersToWrite:\n",
    "    for ele in line:\n",
    "        print(str(ele), end=' ')\n",
    "    print()"
   ]
  },
  {
   "cell_type": "code",
   "execution_count": null,
   "metadata": {},
   "outputs": [],
   "source": []
  }
 ],
 "metadata": {
  "kernelspec": {
   "display_name": "Python 3",
   "language": "python",
   "name": "python3"
  },
  "language_info": {
   "codemirror_mode": {
    "name": "ipython",
    "version": 3
   },
   "file_extension": ".py",
   "mimetype": "text/x-python",
   "name": "python",
   "nbconvert_exporter": "python",
   "pygments_lexer": "ipython3",
   "version": "3.7.0"
  }
 },
 "nbformat": 4,
 "nbformat_minor": 4
}
